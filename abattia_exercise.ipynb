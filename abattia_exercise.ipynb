{
  "nbformat": 4,
  "nbformat_minor": 0,
  "metadata": {
    "colab": {
      "provenance": [],
      "authorship_tag": "ABX9TyPti/9qFIMPtzIgxrA/+1kw",
      "include_colab_link": true
    },
    "kernelspec": {
      "name": "python3",
      "display_name": "Python 3"
    },
    "language_info": {
      "name": "python"
    }
  },
  "cells": [
    {
      "cell_type": "markdown",
      "metadata": {
        "id": "view-in-github",
        "colab_type": "text"
      },
      "source": [
        "<a href=\"https://colab.research.google.com/github/abattiasia/Myinfo/blob/main/abattia_exercise.ipynb\" target=\"_parent\"><img src=\"https://colab.research.google.com/assets/colab-badge.svg\" alt=\"Open In Colab\"/></a>"
      ]
    },
    {
      "cell_type": "code",
      "execution_count": null,
      "metadata": {
        "id": "vH4Agv6lYGcJ"
      },
      "outputs": [],
      "source": []
    },
    {
      "cell_type": "markdown",
      "source": [
        "**Exercise 01**"
      ],
      "metadata": {
        "id": "je3MWym2YhRt"
      }
    },
    {
      "cell_type": "code",
      "source": [
        "name= \"Abdou Attia\"\n",
        "age= 64\n",
        "print (name , age)"
      ],
      "metadata": {
        "colab": {
          "base_uri": "https://localhost:8080/"
        },
        "id": "A5K2YQ01Z82C",
        "outputId": "c1b2d45c-e4a5-4eac-8359-7d2b52a4db03"
      },
      "execution_count": null,
      "outputs": [
        {
          "output_type": "stream",
          "name": "stdout",
          "text": [
            "Abdou Attia 64\n"
          ]
        }
      ]
    },
    {
      "cell_type": "markdown",
      "source": [
        "Exercise 02"
      ],
      "metadata": {
        "id": "1I9XPILoaLXb"
      }
    },
    {
      "cell_type": "code",
      "source": [
        "a= 15\n",
        "b= 5\n",
        "print (a+b)\n",
        "print (a-b)\n",
        "print (a*b)\n",
        "print (a**b)"
      ],
      "metadata": {
        "colab": {
          "base_uri": "https://localhost:8080/"
        },
        "id": "dQg_BmOPZS_H",
        "outputId": "78cbd5e1-c4c4-40fa-dfdd-982d45cba8c0"
      },
      "execution_count": null,
      "outputs": [
        {
          "output_type": "stream",
          "name": "stdout",
          "text": [
            "20\n",
            "10\n",
            "75\n",
            "759375\n"
          ]
        }
      ]
    },
    {
      "cell_type": "markdown",
      "source": [
        "Exercise 03"
      ],
      "metadata": {
        "id": "-cgknL0SZrZT"
      }
    },
    {
      "cell_type": "code",
      "source": [
        "first_name = \"Abdou\"\n",
        "last_name= \"Attia\"\n",
        "print (first_name + \" \"+ last_name)"
      ],
      "metadata": {
        "colab": {
          "base_uri": "https://localhost:8080/"
        },
        "id": "ttCtCRhEYPpF",
        "outputId": "e095deb9-5ba4-4a3b-d798-87454457bf6b"
      },
      "execution_count": null,
      "outputs": [
        {
          "output_type": "stream",
          "name": "stdout",
          "text": [
            "Abdou Attia\n"
          ]
        }
      ]
    },
    {
      "cell_type": "code",
      "source": [],
      "metadata": {
        "id": "gSvr6vQDYaHD"
      },
      "execution_count": null,
      "outputs": []
    },
    {
      "cell_type": "markdown",
      "source": [
        "Exercise 04"
      ],
      "metadata": {
        "id": "Z-r88BFHZyop"
      }
    },
    {
      "cell_type": "code",
      "source": [
        "counter=4\n",
        "counter=counter+1\n",
        "print (counter)"
      ],
      "metadata": {
        "colab": {
          "base_uri": "https://localhost:8080/"
        },
        "id": "JsAhgpPsaQ7Y",
        "outputId": "feb37424-a7e4-4ff2-ce0f-72077121a00b"
      },
      "execution_count": null,
      "outputs": [
        {
          "output_type": "stream",
          "name": "stdout",
          "text": [
            "5\n"
          ]
        }
      ]
    },
    {
      "cell_type": "code",
      "source": [],
      "metadata": {
        "id": "UYbAbVQ_Z5L9"
      },
      "execution_count": null,
      "outputs": []
    },
    {
      "cell_type": "markdown",
      "source": [
        "Exercise 05"
      ],
      "metadata": {
        "id": "NybzO45_aenh"
      }
    },
    {
      "cell_type": "code",
      "source": [
        "x = 6\n",
        "y = 7\n",
        "print (\"x, y = \", x,y)\n",
        "z = y\n",
        "y = x\n",
        "x=z\n",
        "print (\"x, y = \",x,y)\n",
        "\n"
      ],
      "metadata": {
        "colab": {
          "base_uri": "https://localhost:8080/"
        },
        "id": "X017NiRUaf-w",
        "outputId": "0ec4689c-15b6-4385-b3d8-959798dab3e6"
      },
      "execution_count": null,
      "outputs": [
        {
          "output_type": "stream",
          "name": "stdout",
          "text": [
            "x, y =  6 7\n",
            "x, y =  7 6\n"
          ]
        }
      ]
    },
    {
      "cell_type": "markdown",
      "source": [
        "Exercise 06\n"
      ],
      "metadata": {
        "id": "4ACkxeotZESC"
      }
    },
    {
      "cell_type": "code",
      "source": [
        "PI=3.14159\n",
        "radius= 5\n",
        "circumference = 2*PI*radius\n",
        "print(\"circumference = \", circumference)"
      ],
      "metadata": {
        "colab": {
          "base_uri": "https://localhost:8080/"
        },
        "id": "5AW46fbxdChU",
        "outputId": "0f949161-71cb-4b28-c25b-76328e057d04"
      },
      "execution_count": null,
      "outputs": [
        {
          "output_type": "stream",
          "name": "stdout",
          "text": [
            "circumference =  31.4159\n"
          ]
        }
      ]
    },
    {
      "cell_type": "markdown",
      "source": [
        "Exercise 07"
      ],
      "metadata": {
        "id": "Ufwo1i43dzIF"
      }
    },
    {
      "cell_type": "code",
      "source": [
        "is_sunny= True\n",
        "is_raining= False\n",
        "print (is_sunny, is_raining)\n"
      ],
      "metadata": {
        "colab": {
          "base_uri": "https://localhost:8080/"
        },
        "id": "_zEcIP-ld4js",
        "outputId": "18a44f7f-e636-43fb-eb09-7c2d0cfa5d7c"
      },
      "execution_count": null,
      "outputs": [
        {
          "output_type": "stream",
          "name": "stdout",
          "text": [
            "True False\n"
          ]
        }
      ]
    },
    {
      "cell_type": "markdown",
      "source": [],
      "metadata": {
        "id": "GaVtqWpfd3OU"
      }
    },
    {
      "cell_type": "markdown",
      "source": [
        "Exercise 08\n"
      ],
      "metadata": {
        "id": "1OlK7R8U2fYu"
      }
    },
    {
      "cell_type": "code",
      "source": [
        "num=5\n",
        "num_str= str(num)\n",
        "print(num, num_str)\n"
      ],
      "metadata": {
        "colab": {
          "base_uri": "https://localhost:8080/"
        },
        "id": "KXyTfUEj2kuH",
        "outputId": "09ec2556-1023-4849-932b-dc1e3505916f"
      },
      "execution_count": null,
      "outputs": [
        {
          "output_type": "stream",
          "name": "stdout",
          "text": [
            "5 5\n"
          ]
        }
      ]
    },
    {
      "cell_type": "markdown",
      "source": [
        "Exercise 09"
      ],
      "metadata": {
        "id": "jcJmKY7_26oS"
      }
    },
    {
      "cell_type": "code",
      "source": [
        "sentence=\"hello\"\n",
        "ca= len(sentence)\n",
        "print (ca)"
      ],
      "metadata": {
        "colab": {
          "base_uri": "https://localhost:8080/"
        },
        "id": "ZQLciepI28Q5",
        "outputId": "ca5833ee-9a69-4476-ae5a-601520181c37"
      },
      "execution_count": null,
      "outputs": [
        {
          "output_type": "stream",
          "name": "stdout",
          "text": [
            "5\n"
          ]
        }
      ]
    },
    {
      "cell_type": "markdown",
      "source": [
        "Exercise 10"
      ],
      "metadata": {
        "id": "be5lsXu_3TNO"
      }
    },
    {
      "cell_type": "code",
      "source": [
        "height_in_meters= 1.8\n",
        "weight_in_kilograms= 88\n",
        "BMI= height_in_meters/(weight_in_kilograms**2)\n",
        "print (BMI)"
      ],
      "metadata": {
        "colab": {
          "base_uri": "https://localhost:8080/"
        },
        "id": "1AG1lU5b3Vvw",
        "outputId": "6edde6a7-72ae-4154-c85b-ab92a8cfe28a"
      },
      "execution_count": null,
      "outputs": [
        {
          "output_type": "stream",
          "name": "stdout",
          "text": [
            "0.00023243801652892562\n"
          ]
        }
      ]
    }
  ]
}